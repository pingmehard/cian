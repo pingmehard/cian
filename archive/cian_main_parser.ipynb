{
 "cells": [
  {
   "cell_type": "code",
   "execution_count": 1,
   "metadata": {},
   "outputs": [],
   "source": [
    "# протес"
   ]
  },
  {
   "cell_type": "code",
   "execution_count": 2,
   "metadata": {},
   "outputs": [],
   "source": [
    "from selenium import webdriver\n",
    "from selenium.webdriver.common.by import By\n",
    "\n",
    "from bs4 import BeautifulSoup as BS\n",
    "import time"
   ]
  },
  {
   "cell_type": "code",
   "execution_count": 3,
   "metadata": {},
   "outputs": [],
   "source": [
    "link = \"https://www.cian.ru/cat.php?currency=2&deal_type=sale&engine_version=2&maxprice=25000000&min_house_year=2000&minfloor=5&mintarea=45&object_type%5B0%5D=1&offer_type=flat&only_flat=1&region=1\"\n",
    "main_link = 'https://www.cian.ru'"
   ]
  },
  {
   "cell_type": "code",
   "execution_count": 4,
   "metadata": {},
   "outputs": [
    {
     "name": "stderr",
     "output_type": "stream",
     "text": [
      "C:\\Users\\roman\\AppData\\Local\\Temp\\ipykernel_4192\\3882416588.py:2: DeprecationWarning: executable_path has been deprecated, please pass in a Service object\n",
      "  driver = webdriver.Chrome(\".\\chromedriver\\chromedriver.exe\")\n"
     ]
    }
   ],
   "source": [
    "# push first search\n",
    "driver = webdriver.Chrome(\".\\chromedriver\\chromedriver.exe\")\n",
    "\n",
    "driver.get(link)\n",
    "time.sleep(10)\n",
    "feed = BS(driver.page_source, 'lxml')\n",
    "feed_paginator = feed.find_all('li', class_ = \"_93444fe79c--list-item--FFjMz\")\n",
    "\n",
    "links = []\n",
    "\n",
    "for i in feed.find('div', class_ = '_93444fe79c--wrapper--W0WqH').find_all('article'):\n",
    "    links.append(i.find('a')['href'])"
   ]
  },
  {
   "cell_type": "code",
   "execution_count": 7,
   "metadata": {},
   "outputs": [],
   "source": [
    "# push next searches thriugh pages\n",
    "before_active_page = True\n",
    "page = 0\n",
    "\n",
    "while feed_paginator is not None:\n",
    "\n",
    "    # выходим, если страницы пошли по кругу\n",
    "    if page == -1:\n",
    "        break\n",
    "\n",
    "    for i in feed_paginator:\n",
    "        \n",
    "        if 'active' not in \"\".join(i.attrs['class']):\n",
    "            if before_active_page == False:\n",
    "                try:\n",
    "                    print(i.text)\n",
    "                    try: # получаем страницу, если страница больше сохраненной, все ок, иначе break\n",
    "                        if int(i.text) >= page:\n",
    "                            page = int(i.text)\n",
    "                        else:\n",
    "                            page = -1\n",
    "                            break\n",
    "                    except Exception as e:\n",
    "                        print(e)\n",
    "\n",
    "                    next_page = i.find('a')['href']\n",
    "                    print(next_page)\n",
    "\n",
    "                    if 'cian' not in next_page:\n",
    "                        driver.get(main_link + next_page)\n",
    "                    else:\n",
    "                        driver.get(next_page)\n",
    "                    time.sleep(7)\n",
    "                    \n",
    "                    feed = BS(driver.page_source, 'lxml')\n",
    "                    feed_paginator = feed.find_all('li', class_ = \"_93444fe79c--list-item--FFjMz\")\n",
    "                    before_active_page = True\n",
    "\n",
    "                    for i in feed.find('div', class_ = '_93444fe79c--wrapper--W0WqH').find_all('article'):\n",
    "                        links.append(i.find('a')['href'])\n",
    "\n",
    "                    print(links[-5:])\n",
    "\n",
    "                    break\n",
    "                except:\n",
    "                    feed_paginator = None\n",
    "\n",
    "        else:\n",
    "            before_active_page = False\n"
   ]
  },
  {
   "cell_type": "code",
   "execution_count": 6,
   "metadata": {},
   "outputs": [
    {
     "ename": "InvalidArgumentException",
     "evalue": "Message: invalid argument\n  (Session info: chrome=107.0.5304.122)\nStacktrace:\nBacktrace:\n\tOrdinal0 [0x0066ACD3+2075859]\n\tOrdinal0 [0x005FEE61+1633889]\n\tOrdinal0 [0x004FB680+571008]\n\tOrdinal0 [0x004EE8FE+518398]\n\tOrdinal0 [0x004ED2A3+512675]\n\tOrdinal0 [0x004ED5AD+513453]\n\tOrdinal0 [0x004FD0CE+577742]\n\tOrdinal0 [0x0055BC7D+965757]\n\tOrdinal0 [0x0054731C+881436]\n\tOrdinal0 [0x0055B56A+963946]\n\tOrdinal0 [0x00547136+880950]\n\tOrdinal0 [0x0051FEFD+720637]\n\tOrdinal0 [0x00520F3F+724799]\n\tGetHandleVerifier [0x0091EED2+2769538]\n\tGetHandleVerifier [0x00910D95+2711877]\n\tGetHandleVerifier [0x006FA03A+521194]\n\tGetHandleVerifier [0x006F8DA0+516432]\n\tOrdinal0 [0x0060682C+1665068]\n\tOrdinal0 [0x0060B128+1683752]\n\tOrdinal0 [0x0060B215+1683989]\n\tOrdinal0 [0x00616484+1729668]\n\tBaseThreadInitThunk [0x76E4FEF9+25]\n\tRtlGetAppContainerNamedObjectPath [0x775D7BBE+286]\n\tRtlGetAppContainerNamedObjectPath [0x775D7B8E+238]\n",
     "output_type": "error",
     "traceback": [
      "\u001b[1;31m---------------------------------------------------------------------------\u001b[0m",
      "\u001b[1;31mInvalidArgumentException\u001b[0m                  Traceback (most recent call last)",
      "Cell \u001b[1;32mIn [6], line 1\u001b[0m\n\u001b[1;32m----> 1\u001b[0m driver\u001b[39m.\u001b[39;49mget(next_page)\n\u001b[0;32m      2\u001b[0m time\u001b[39m.\u001b[39msleep(\u001b[39m7\u001b[39m)\n\u001b[0;32m      3\u001b[0m feed \u001b[39m=\u001b[39m BS(driver\u001b[39m.\u001b[39mpage_source, \u001b[39m'\u001b[39m\u001b[39mlxml\u001b[39m\u001b[39m'\u001b[39m)\n",
      "File \u001b[1;32mc:\\Users\\roman\\anaconda3\\envs\\cian\\lib\\site-packages\\selenium\\webdriver\\remote\\webdriver.py:455\u001b[0m, in \u001b[0;36mWebDriver.get\u001b[1;34m(self, url)\u001b[0m\n\u001b[0;32m    451\u001b[0m \u001b[39mdef\u001b[39;00m \u001b[39mget\u001b[39m(\u001b[39mself\u001b[39m, url: \u001b[39mstr\u001b[39m) \u001b[39m-\u001b[39m\u001b[39m>\u001b[39m \u001b[39mNone\u001b[39;00m:\n\u001b[0;32m    452\u001b[0m     \u001b[39m\"\"\"\u001b[39;00m\n\u001b[0;32m    453\u001b[0m \u001b[39m    Loads a web page in the current browser session.\u001b[39;00m\n\u001b[0;32m    454\u001b[0m \u001b[39m    \"\"\"\u001b[39;00m\n\u001b[1;32m--> 455\u001b[0m     \u001b[39mself\u001b[39;49m\u001b[39m.\u001b[39;49mexecute(Command\u001b[39m.\u001b[39;49mGET, {\u001b[39m\"\u001b[39;49m\u001b[39murl\u001b[39;49m\u001b[39m\"\u001b[39;49m: url})\n",
      "File \u001b[1;32mc:\\Users\\roman\\anaconda3\\envs\\cian\\lib\\site-packages\\selenium\\webdriver\\remote\\webdriver.py:444\u001b[0m, in \u001b[0;36mWebDriver.execute\u001b[1;34m(self, driver_command, params)\u001b[0m\n\u001b[0;32m    442\u001b[0m response \u001b[39m=\u001b[39m \u001b[39mself\u001b[39m\u001b[39m.\u001b[39mcommand_executor\u001b[39m.\u001b[39mexecute(driver_command, params)\n\u001b[0;32m    443\u001b[0m \u001b[39mif\u001b[39;00m response:\n\u001b[1;32m--> 444\u001b[0m     \u001b[39mself\u001b[39;49m\u001b[39m.\u001b[39;49merror_handler\u001b[39m.\u001b[39;49mcheck_response(response)\n\u001b[0;32m    445\u001b[0m     response[\u001b[39m\"\u001b[39m\u001b[39mvalue\u001b[39m\u001b[39m\"\u001b[39m] \u001b[39m=\u001b[39m \u001b[39mself\u001b[39m\u001b[39m.\u001b[39m_unwrap_value(response\u001b[39m.\u001b[39mget(\u001b[39m\"\u001b[39m\u001b[39mvalue\u001b[39m\u001b[39m\"\u001b[39m, \u001b[39mNone\u001b[39;00m))\n\u001b[0;32m    446\u001b[0m     \u001b[39mreturn\u001b[39;00m response\n",
      "File \u001b[1;32mc:\\Users\\roman\\anaconda3\\envs\\cian\\lib\\site-packages\\selenium\\webdriver\\remote\\errorhandler.py:249\u001b[0m, in \u001b[0;36mErrorHandler.check_response\u001b[1;34m(self, response)\u001b[0m\n\u001b[0;32m    247\u001b[0m         alert_text \u001b[39m=\u001b[39m value[\u001b[39m\"\u001b[39m\u001b[39malert\u001b[39m\u001b[39m\"\u001b[39m]\u001b[39m.\u001b[39mget(\u001b[39m\"\u001b[39m\u001b[39mtext\u001b[39m\u001b[39m\"\u001b[39m)\n\u001b[0;32m    248\u001b[0m     \u001b[39mraise\u001b[39;00m exception_class(message, screen, stacktrace, alert_text)  \u001b[39m# type: ignore[call-arg]  # mypy is not smart enough here\u001b[39;00m\n\u001b[1;32m--> 249\u001b[0m \u001b[39mraise\u001b[39;00m exception_class(message, screen, stacktrace)\n",
      "\u001b[1;31mInvalidArgumentException\u001b[0m: Message: invalid argument\n  (Session info: chrome=107.0.5304.122)\nStacktrace:\nBacktrace:\n\tOrdinal0 [0x0066ACD3+2075859]\n\tOrdinal0 [0x005FEE61+1633889]\n\tOrdinal0 [0x004FB680+571008]\n\tOrdinal0 [0x004EE8FE+518398]\n\tOrdinal0 [0x004ED2A3+512675]\n\tOrdinal0 [0x004ED5AD+513453]\n\tOrdinal0 [0x004FD0CE+577742]\n\tOrdinal0 [0x0055BC7D+965757]\n\tOrdinal0 [0x0054731C+881436]\n\tOrdinal0 [0x0055B56A+963946]\n\tOrdinal0 [0x00547136+880950]\n\tOrdinal0 [0x0051FEFD+720637]\n\tOrdinal0 [0x00520F3F+724799]\n\tGetHandleVerifier [0x0091EED2+2769538]\n\tGetHandleVerifier [0x00910D95+2711877]\n\tGetHandleVerifier [0x006FA03A+521194]\n\tGetHandleVerifier [0x006F8DA0+516432]\n\tOrdinal0 [0x0060682C+1665068]\n\tOrdinal0 [0x0060B128+1683752]\n\tOrdinal0 [0x0060B215+1683989]\n\tOrdinal0 [0x00616484+1729668]\n\tBaseThreadInitThunk [0x76E4FEF9+25]\n\tRtlGetAppContainerNamedObjectPath [0x775D7BBE+286]\n\tRtlGetAppContainerNamedObjectPath [0x775D7B8E+238]\n"
     ]
    }
   ],
   "source": [
    "driver.get(next_page)\n",
    "time.sleep(7)\n",
    "feed = BS(driver.page_source, 'lxml')"
   ]
  },
  {
   "cell_type": "code",
   "execution_count": null,
   "metadata": {},
   "outputs": [],
   "source": [
    "c = 0\n",
    "\n",
    "while True:\n",
    "    try:\n",
    "        driver.find_element(By.CLASS_NAME, '_93444fe79c--more-button--nqptt').click()\n",
    "        time.sleep(2)\n",
    "    except:\n",
    "        c += 1\n",
    "        time.sleep(1)\n",
    "        if c > 3:\n",
    "            c = 0\n",
    "            break"
   ]
  },
  {
   "cell_type": "code",
   "execution_count": null,
   "metadata": {},
   "outputs": [],
   "source": [
    "feed = BS(driver.page_source, 'lxml')\n",
    "\n",
    "for i in feed.find('div', class_ = '_93444fe79c--wrapper--W0WqH').find_all('article'):\n",
    "    links.append(i.find('a')['href'])"
   ]
  },
  {
   "cell_type": "code",
   "execution_count": null,
   "metadata": {},
   "outputs": [],
   "source": [
    "suggestions_links = [i.find('a')['href'] for i in feed.find_all(attrs={\"data-name\":'LinkArea'})]\n",
    "links.extend(suggestions_links)"
   ]
  },
  {
   "cell_type": "code",
   "execution_count": null,
   "metadata": {},
   "outputs": [],
   "source": [
    "with open('links.txt', 'w') as f:\n",
    "    f.write(\"\\n\".join(links))"
   ]
  }
 ],
 "metadata": {
  "kernelspec": {
   "display_name": "Python 3.10.8 ('cian')",
   "language": "python",
   "name": "python3"
  },
  "language_info": {
   "codemirror_mode": {
    "name": "ipython",
    "version": 3
   },
   "file_extension": ".py",
   "mimetype": "text/x-python",
   "name": "python",
   "nbconvert_exporter": "python",
   "pygments_lexer": "ipython3",
   "version": "3.10.8"
  },
  "orig_nbformat": 4,
  "vscode": {
   "interpreter": {
    "hash": "c386ae148fbc61c66a19b9d2ac38b4b69bc830f709b13f2f07ff8e9aaafecff7"
   }
  }
 },
 "nbformat": 4,
 "nbformat_minor": 2
}
